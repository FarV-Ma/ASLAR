{
 "cells": [
  {
   "cell_type": "code",
   "execution_count": 1,
   "metadata": {},
   "outputs": [
    {
     "name": "stderr",
     "output_type": "stream",
     "text": [
      "d:\\Stu\\CV\\Z_Env\\Anaconda3\\envs\\CV2023-QM\\lib\\site-packages\\numpy\\_distributor_init.py:32: UserWarning: loaded more than 1 DLL from .libs:\n",
      "d:\\Stu\\CV\\Z_Env\\Anaconda3\\envs\\CV2023-QM\\lib\\site-packages\\numpy\\.libs\\libopenblas.WCDJNK7YVMPZQ2ME2ZZHJJRJ3JIKNDB7.gfortran-win_amd64.dll\n",
      "d:\\Stu\\CV\\Z_Env\\Anaconda3\\envs\\CV2023-QM\\lib\\site-packages\\numpy\\.libs\\libopenblas.XWYDX2IKJW2NMTWSFYNGFUWKQU3LYTCZ.gfortran-win_amd64.dll\n",
      "  stacklevel=1)\n"
     ]
    }
   ],
   "source": [
    "import csv\n",
    "import cv2\n",
    "import mediapipe as mp\n",
    "import numpy as np\n",
    "import os"
   ]
  },
  {
   "cell_type": "code",
   "execution_count": 2,
   "metadata": {},
   "outputs": [],
   "source": [
    "path = '../asl_alphabet_train/'"
   ]
  },
  {
   "cell_type": "code",
   "execution_count": 3,
   "metadata": {},
   "outputs": [],
   "source": [
    "gesture = os.listdir(path)"
   ]
  },
  {
   "cell_type": "code",
   "execution_count": 4,
   "metadata": {},
   "outputs": [
    {
     "data": {
      "text/plain": [
       "['A',\n",
       " 'B',\n",
       " 'C',\n",
       " 'D',\n",
       " 'E',\n",
       " 'F',\n",
       " 'G',\n",
       " 'H',\n",
       " 'I',\n",
       " 'K',\n",
       " 'L',\n",
       " 'M',\n",
       " 'N',\n",
       " 'O',\n",
       " 'P',\n",
       " 'Q',\n",
       " 'R',\n",
       " 'S',\n",
       " 'T',\n",
       " 'U',\n",
       " 'V',\n",
       " 'W',\n",
       " 'X',\n",
       " 'Y']"
      ]
     },
     "execution_count": 4,
     "metadata": {},
     "output_type": "execute_result"
    }
   ],
   "source": [
    "gesture"
   ]
  },
  {
   "cell_type": "code",
   "execution_count": 5,
   "metadata": {},
   "outputs": [],
   "source": [
    "dict_labels = {\n",
    "    'A':0, 'B':1, 'C':2, 'D':3, 'E':4, 'F':5, 'G':6, 'H':7, 'I':8, 'J':9,\n",
    "    'K':10, 'L':11, 'M':12, 'N':13, 'O':14, 'P':15, 'Q':16, 'R':17, 'S':18,\n",
    "    'T':19, 'U':20, 'V':21, 'W':22, 'X':23, 'Y':24, 'Z':25,\n",
    "}"
   ]
  },
  {
   "cell_type": "code",
   "execution_count": 6,
   "metadata": {},
   "outputs": [
    {
     "name": "stdout",
     "output_type": "stream",
     "text": [
      "['A', 'B', 'C', 'D', 'E', 'F', 'G', 'H', 'I', 'J', 'K', 'L', 'M', 'N', 'O', 'P', 'Q', 'R', 'S', 'T', 'U', 'V', 'W', 'X', 'Y', 'Z']\n"
     ]
    }
   ],
   "source": [
    "print(list(dict_labels.keys()))"
   ]
  },
  {
   "cell_type": "code",
   "execution_count": 7,
   "metadata": {},
   "outputs": [
    {
     "data": {
      "text/plain": [
       "1"
      ]
     },
     "execution_count": 7,
     "metadata": {},
     "output_type": "execute_result"
    }
   ],
   "source": [
    "dict_labels[gesture[1]]"
   ]
  },
  {
   "cell_type": "code",
   "execution_count": 8,
   "metadata": {},
   "outputs": [],
   "source": [
    "# for ix in gesture:\n",
    "#     images = os.listdir(path + ix)\n",
    "#     for cx in images:\n",
    "#         img_path = path + ix + '/' + cx\n"
   ]
  },
  {
   "cell_type": "code",
   "execution_count": 9,
   "metadata": {},
   "outputs": [],
   "source": [
    "mpHands = mp.solutions.hands\n",
    "hands = mpHands.Hands(static_image_mode=True,\n",
    "                      max_num_hands=1,\n",
    "                      min_detection_confidence=0.2,\n",
    "                      min_tracking_confidence=0.2,)"
   ]
  },
  {
   "cell_type": "code",
   "execution_count": 10,
   "metadata": {},
   "outputs": [
    {
     "data": {
      "text/plain": [
       "3000"
      ]
     },
     "execution_count": 10,
     "metadata": {},
     "output_type": "execute_result"
    }
   ],
   "source": [
    "x, y = [], []\n",
    "count = 0\n",
    "images = os.listdir(path + 'A')\n",
    "#len(images)\n",
    "#print(images.value_counts())\n",
    "#print(images)\n",
    "for cx in images:\n",
    "    img_path = path + 'A' + '/' + cx\n",
    "    x.append(img_path)\n",
    "len(x)"
   ]
  },
  {
   "cell_type": "code",
   "execution_count": 11,
   "metadata": {},
   "outputs": [],
   "source": [
    "# for ix in gesture:\n",
    "#     print(ix)\n",
    "#     print(dict_labels[ix])"
   ]
  },
  {
   "cell_type": "code",
   "execution_count": 12,
   "metadata": {},
   "outputs": [
    {
     "name": "stdout",
     "output_type": "stream",
     "text": [
      "A error number : 622\n",
      "B error number : 721\n",
      "C error number : 772\n",
      "D error number : 338\n",
      "E error number : 618\n",
      "F error number : 57\n",
      "G error number : 357\n",
      "H error number : 476\n",
      "I error number : 468\n",
      "K error number : 236\n",
      "L error number : 359\n",
      "M error number : 897\n",
      "N error number : 1307\n",
      "O error number : 576\n",
      "P error number : 775\n",
      "Q error number : 681\n",
      "R error number : 339\n",
      "S error number : 333\n",
      "T error number : 570\n",
      "U error number : 417\n",
      "V error number : 381\n",
      "W error number : 427\n",
      "X error number : 718\n",
      "Y error number : 341\n"
     ]
    }
   ],
   "source": [
    "x, y = [], []\n",
    "\n",
    "\n",
    "#print(images)\n",
    "# for cx in images:\n",
    "#     img_path = path + 'A' + '/' + cx\n",
    "#     print(img_path)\n",
    "all = []\n",
    "for ix in gesture:\n",
    "    error = 0\n",
    "    images = os.listdir(path + ix)\n",
    "    for cx in images:\n",
    "        img_path = path + ix + '/' + cx\n",
    "        img = cv2.imread(img_path)\n",
    "        imgRGB = cv2.cvtColor(img, cv2.COLOR_BGR2RGB)\n",
    "        results = hands.process(imgRGB)\n",
    "        if results.multi_hand_landmarks:\n",
    "            for handLms in results.multi_hand_landmarks:\n",
    "                z = []\n",
    "                z.append(dict_labels[ix])\n",
    "                for id, lm in enumerate(handLms.landmark):\n",
    "                    test = lm.x * lm.y\n",
    "                    z.append(test)\n",
    "                all.append(z)\n",
    "        else:\n",
    "            error+=1\n",
    "    print(\"{} error number : {}\".format(ix,error))\n",
    "header = ['label','P1','P2','P3','P4','P5','P6','P7','P8','P9','P10',\n",
    "          'P11','P12','P13','P14','P15','P16','P17','P18','P19','P20',\n",
    "          'P21']\n",
    "with open('HandsData.csv', 'w',newline='') as file:\n",
    "    writer = csv.writer(file)\n",
    "    writer.writerow(header)\n",
    "    writer.writerows(all)"
   ]
  },
  {
   "cell_type": "code",
   "execution_count": null,
   "metadata": {},
   "outputs": [],
   "source": []
  }
 ],
 "metadata": {
  "kernelspec": {
   "display_name": "Python 3.7.16 ('CV2023-QM': conda)",
   "language": "python",
   "name": "python3"
  },
  "language_info": {
   "codemirror_mode": {
    "name": "ipython",
    "version": 3
   },
   "file_extension": ".py",
   "mimetype": "text/x-python",
   "name": "python",
   "nbconvert_exporter": "python",
   "pygments_lexer": "ipython3",
   "version": "3.7.16"
  },
  "vscode": {
   "interpreter": {
    "hash": "b32e4b94fa52ab4733cf16a94304d32fcfb0b0ba7a1098f80ead89a57d54903b"
   }
  }
 },
 "nbformat": 4,
 "nbformat_minor": 2
}
